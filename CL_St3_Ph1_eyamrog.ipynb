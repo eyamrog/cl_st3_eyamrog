{
 "cells": [
  {
   "cell_type": "markdown",
   "id": "810d9f10-ec19-4b09-8f90-e983e460b319",
   "metadata": {},
   "source": [
    "<center>\n",
    "<img src=\"https://laelgelcpublic.s3.sa-east-1.amazonaws.com/lael_50_years_narrow_white.png.no_years.400px_96dpi.png\" width=\"300\" alt=\"LAEL 50 years logo\">\n",
    "<h3>APPLIED LINGUISTICS GRADUATE PROGRAMME (LAEL)</h3>\n",
    "</center>\n",
    "<hr>"
   ]
  },
  {
   "cell_type": "markdown",
   "id": "888c2c96-2fc3-4a1a-995b-c388036a2a15",
   "metadata": {},
   "source": [
    "# Corpus Linguistics - Study 3 - Phase 1 - eyamrog"
   ]
  },
  {
   "cell_type": "markdown",
   "id": "60552836-4e24-45fa-a537-692248055ea1",
   "metadata": {},
   "source": [
    "This phase aims to compile the EL2AP corpus (Human-Authored Target Corpus).\n",
    "\n",
    "- **Definition of text**:\n",
    "    - Academic research articles;\n",
    "    - Organised in sections: Abstract, Introduction, Literature Review, Methodology, Results, Discussion, Conclusion, Acknowledgements;\n",
    "    - Paragraphs longer than or equal to 10 words."
   ]
  },
  {
   "cell_type": "markdown",
   "id": "a685d8b0-7715-45a6-9489-2d3db9b346c8",
   "metadata": {},
   "source": [
    "## Required Python packages"
   ]
  },
  {
   "cell_type": "markdown",
   "id": "c0e16e73-b1b9-4838-8cce-a29dc300868e",
   "metadata": {},
   "source": [
    "- pandas\n",
    "- nltk"
   ]
  },
  {
   "cell_type": "markdown",
   "id": "aa922755-c4d6-4008-9aad-d35e33b18ed7",
   "metadata": {},
   "source": [
    "## Importing the required libraries"
   ]
  },
  {
   "cell_type": "code",
   "execution_count": 1,
   "id": "06ebcaf3-5b41-474c-9394-ebc8bec9005f",
   "metadata": {},
   "outputs": [],
   "source": [
    "import pandas as pd\n",
    "import os\n",
    "import sys\n",
    "import nltk\n",
    "from nltk.tokenize import word_tokenize"
   ]
  },
  {
   "cell_type": "markdown",
   "id": "ab0b7a89-9cd6-4f6c-812f-5c1fb55adc3b",
   "metadata": {},
   "source": [
    "## Defining input variables"
   ]
  },
  {
   "cell_type": "code",
   "execution_count": 2,
   "id": "5623bf7a-0299-4195-b16a-97752c21d96f",
   "metadata": {},
   "outputs": [],
   "source": [
    "input_directory = 'cl_st3_ph1_eyamrog'\n",
    "output_directory = 'cl_st3_ph1_eyamrog'"
   ]
  },
  {
   "cell_type": "markdown",
   "id": "a047cb0e-1e10-491f-a623-03363c23d1a7",
   "metadata": {},
   "source": [
    "## Create output directory"
   ]
  },
  {
   "cell_type": "code",
   "execution_count": 3,
   "id": "88d10775-2f6c-49ea-b8b5-385e37aec6b9",
   "metadata": {},
   "outputs": [
    {
     "name": "stdout",
     "output_type": "stream",
     "text": [
      "Output directory already exists.\n"
     ]
    }
   ],
   "source": [
    "# Check if the output directory already exists. If it does, do nothing. If it doesn't exist, create it.\n",
    "if os.path.exists(output_directory):\n",
    "    print('Output directory already exists.')\n",
    "else:\n",
    "    try:\n",
    "        os.makedirs(output_directory)\n",
    "        print('Output directory successfully created.')\n",
    "    except OSError as e:\n",
    "        print('Failed to create the directory:', e)\n",
    "        sys.exit(1)"
   ]
  },
  {
   "cell_type": "markdown",
   "id": "ff6c8b29-a9b5-4181-9d03-b638a0c2e147",
   "metadata": {},
   "source": [
    "### Import the data into a DataFrame"
   ]
  },
  {
   "cell_type": "code",
   "execution_count": 4,
   "id": "34b20209-ee19-4bd8-b15c-b663d1382db1",
   "metadata": {},
   "outputs": [],
   "source": [
    "df_el2ap = pd.read_json(f'{input_directory}/scielo_chatgpt_erpp_pp.jsonl', lines=True)"
   ]
  },
  {
   "cell_type": "code",
   "execution_count": 5,
   "id": "b8f6337e-9010-4079-8562-89e562aa9c91",
   "metadata": {},
   "outputs": [
    {
     "data": {
      "text/plain": [
       "Title                     object\n",
       "URL                       object\n",
       "Authors                   object\n",
       "Published                 object\n",
       "PDF Language              object\n",
       "PDF URL                   object\n",
       "Submitted                  int64\n",
       "Posted                     int64\n",
       "Text ID                   object\n",
       "Area of Knowledge         object\n",
       "Section                   object\n",
       "Paragraph                 object\n",
       "Text Paragraph            object\n",
       "Text Paragraph ChatGPT    object\n",
       "dtype: object"
      ]
     },
     "execution_count": 5,
     "metadata": {},
     "output_type": "execute_result"
    }
   ],
   "source": [
    "df_el2ap.dtypes"
   ]
  },
  {
   "cell_type": "code",
   "execution_count": 6,
   "id": "57ddd78a-65a7-4fab-94a0-2c798d8e4f45",
   "metadata": {},
   "outputs": [],
   "source": [
    "df_el2ap['Submitted'] = pd.to_datetime(df_el2ap['Submitted'], unit='ms')\n",
    "df_el2ap['Posted'] = pd.to_datetime(df_el2ap['Posted'], unit='ms')"
   ]
  },
  {
   "cell_type": "code",
   "execution_count": 7,
   "id": "5fd6e745-c43e-4e84-ba01-2729a2ca4281",
   "metadata": {},
   "outputs": [
    {
     "data": {
      "text/html": [
       "<div>\n",
       "<style scoped>\n",
       "    .dataframe tbody tr th:only-of-type {\n",
       "        vertical-align: middle;\n",
       "    }\n",
       "\n",
       "    .dataframe tbody tr th {\n",
       "        vertical-align: top;\n",
       "    }\n",
       "\n",
       "    .dataframe thead th {\n",
       "        text-align: right;\n",
       "    }\n",
       "</style>\n",
       "<table border=\"1\" class=\"dataframe\">\n",
       "  <thead>\n",
       "    <tr style=\"text-align: right;\">\n",
       "      <th></th>\n",
       "      <th>Title</th>\n",
       "      <th>URL</th>\n",
       "      <th>Authors</th>\n",
       "      <th>Published</th>\n",
       "      <th>PDF Language</th>\n",
       "      <th>PDF URL</th>\n",
       "      <th>Submitted</th>\n",
       "      <th>Posted</th>\n",
       "      <th>Text ID</th>\n",
       "      <th>Area of Knowledge</th>\n",
       "      <th>Section</th>\n",
       "      <th>Paragraph</th>\n",
       "      <th>Text Paragraph</th>\n",
       "      <th>Text Paragraph ChatGPT</th>\n",
       "    </tr>\n",
       "  </thead>\n",
       "  <tbody>\n",
       "    <tr>\n",
       "      <th>0</th>\n",
       "      <td>(Fern flora of Viçosa, Minas Gerais State, Bra...</td>\n",
       "      <td>https://preprints.scielo.org/index.php/scielo/...</td>\n",
       "      <td>Nelson Túlio Lage Pena, Pedro Bond Schwartsburd</td>\n",
       "      <td>Submitted 11/22/2022 - Posted 11/23/2022</td>\n",
       "      <td>PDF</td>\n",
       "      <td>https://preprints.scielo.org/index.php/scielo/...</td>\n",
       "      <td>2022-11-22</td>\n",
       "      <td>2022-11-23</td>\n",
       "      <td>t000000</td>\n",
       "      <td>Biological Sciences</td>\n",
       "      <td>Abstract</td>\n",
       "      <td>Paragraph 1</td>\n",
       "      <td>(Fern flora of Viçosa, Minas Gerais State, Bra...</td>\n",
       "      <td>As part of an ongoing project focused on the f...</td>\n",
       "    </tr>\n",
       "    <tr>\n",
       "      <th>1</th>\n",
       "      <td>(Fern flora of Viçosa, Minas Gerais State, Bra...</td>\n",
       "      <td>https://preprints.scielo.org/index.php/scielo/...</td>\n",
       "      <td>Nelson Túlio Lage Pena, Pedro Bond Schwartsburd</td>\n",
       "      <td>Submitted 11/22/2022 - Posted 11/23/2022</td>\n",
       "      <td>PDF</td>\n",
       "      <td>https://preprints.scielo.org/index.php/scielo/...</td>\n",
       "      <td>2022-11-22</td>\n",
       "      <td>2022-11-23</td>\n",
       "      <td>t000000</td>\n",
       "      <td>Biological Sciences</td>\n",
       "      <td>Introduction, Literature Review</td>\n",
       "      <td>Paragraph 1</td>\n",
       "      <td>At the end of the era in which the plant Class...</td>\n",
       "      <td>At the end of the period when plant classifica...</td>\n",
       "    </tr>\n",
       "    <tr>\n",
       "      <th>2</th>\n",
       "      <td>(Fern flora of Viçosa, Minas Gerais State, Bra...</td>\n",
       "      <td>https://preprints.scielo.org/index.php/scielo/...</td>\n",
       "      <td>Nelson Túlio Lage Pena, Pedro Bond Schwartsburd</td>\n",
       "      <td>Submitted 11/22/2022 - Posted 11/23/2022</td>\n",
       "      <td>PDF</td>\n",
       "      <td>https://preprints.scielo.org/index.php/scielo/...</td>\n",
       "      <td>2022-11-22</td>\n",
       "      <td>2022-11-23</td>\n",
       "      <td>t000000</td>\n",
       "      <td>Biological Sciences</td>\n",
       "      <td>Introduction, Literature Review</td>\n",
       "      <td>Paragraph 2</td>\n",
       "      <td>Brazil is represented by Dennstaedtiaceae with...</td>\n",
       "      <td>In Brazil, Dennstaedtiaceae is represented by ...</td>\n",
       "    </tr>\n",
       "    <tr>\n",
       "      <th>3</th>\n",
       "      <td>(Fern flora of Viçosa, Minas Gerais State, Bra...</td>\n",
       "      <td>https://preprints.scielo.org/index.php/scielo/...</td>\n",
       "      <td>Nelson Túlio Lage Pena, Pedro Bond Schwartsburd</td>\n",
       "      <td>Submitted 11/22/2022 - Posted 11/23/2022</td>\n",
       "      <td>PDF</td>\n",
       "      <td>https://preprints.scielo.org/index.php/scielo/...</td>\n",
       "      <td>2022-11-22</td>\n",
       "      <td>2022-11-23</td>\n",
       "      <td>t000000</td>\n",
       "      <td>Biological Sciences</td>\n",
       "      <td>Introduction, Literature Review</td>\n",
       "      <td>Paragraph 3</td>\n",
       "      <td>Pteridium is spread all across the globe (exce...</td>\n",
       "      <td>Pteridium is distributed globally, with the ex...</td>\n",
       "    </tr>\n",
       "    <tr>\n",
       "      <th>4</th>\n",
       "      <td>(Fern flora of Viçosa, Minas Gerais State, Bra...</td>\n",
       "      <td>https://preprints.scielo.org/index.php/scielo/...</td>\n",
       "      <td>Nelson Túlio Lage Pena, Pedro Bond Schwartsburd</td>\n",
       "      <td>Submitted 11/22/2022 - Posted 11/23/2022</td>\n",
       "      <td>PDF</td>\n",
       "      <td>https://preprints.scielo.org/index.php/scielo/...</td>\n",
       "      <td>2022-11-22</td>\n",
       "      <td>2022-11-23</td>\n",
       "      <td>t000000</td>\n",
       "      <td>Biological Sciences</td>\n",
       "      <td>Introduction, Literature Review</td>\n",
       "      <td>Paragraph 4</td>\n",
       "      <td>In the State of Minas Gerais, Dennstaedtiaceae...</td>\n",
       "      <td>In the state of Minas Gerais, the family Denns...</td>\n",
       "    </tr>\n",
       "    <tr>\n",
       "      <th>...</th>\n",
       "      <td>...</td>\n",
       "      <td>...</td>\n",
       "      <td>...</td>\n",
       "      <td>...</td>\n",
       "      <td>...</td>\n",
       "      <td>...</td>\n",
       "      <td>...</td>\n",
       "      <td>...</td>\n",
       "      <td>...</td>\n",
       "      <td>...</td>\n",
       "      <td>...</td>\n",
       "      <td>...</td>\n",
       "      <td>...</td>\n",
       "      <td>...</td>\n",
       "    </tr>\n",
       "    <tr>\n",
       "      <th>11522</th>\n",
       "      <td>COVID-19 in Brazil: advantages of a socialized...</td>\n",
       "      <td>https://preprints.scielo.org/index.php/scielo/...</td>\n",
       "      <td>Julio Croda, Wanderson Kleber de  Oliveira, Ro...</td>\n",
       "      <td>Submitted 04/06/2020 - Posted 04/08/2020</td>\n",
       "      <td>PDF</td>\n",
       "      <td>https://preprints.scielo.org/index.php/scielo/...</td>\n",
       "      <td>2020-04-06</td>\n",
       "      <td>2020-04-08</td>\n",
       "      <td>t000315</td>\n",
       "      <td>Health Sciences</td>\n",
       "      <td>Literature Review, Methodology, Results, Discu...</td>\n",
       "      <td>Paragraph 14</td>\n",
       "      <td>During the Zika epidemic, Brazil led the disco...</td>\n",
       "      <td>During the Zika epidemic, Brazil was the first...</td>\n",
       "    </tr>\n",
       "    <tr>\n",
       "      <th>11523</th>\n",
       "      <td>COVID-19 in Brazil: advantages of a socialized...</td>\n",
       "      <td>https://preprints.scielo.org/index.php/scielo/...</td>\n",
       "      <td>Julio Croda, Wanderson Kleber de  Oliveira, Ro...</td>\n",
       "      <td>Submitted 04/06/2020 - Posted 04/08/2020</td>\n",
       "      <td>PDF</td>\n",
       "      <td>https://preprints.scielo.org/index.php/scielo/...</td>\n",
       "      <td>2020-04-06</td>\n",
       "      <td>2020-04-08</td>\n",
       "      <td>t000315</td>\n",
       "      <td>Health Sciences</td>\n",
       "      <td>Literature Review, Methodology, Results, Discu...</td>\n",
       "      <td>Paragraph 15</td>\n",
       "      <td>Although Brazil is attempting to implement mea...</td>\n",
       "      <td>Although Brazil is implementing measures to re...</td>\n",
       "    </tr>\n",
       "    <tr>\n",
       "      <th>11524</th>\n",
       "      <td>COVID-19 in Brazil: advantages of a socialized...</td>\n",
       "      <td>https://preprints.scielo.org/index.php/scielo/...</td>\n",
       "      <td>Julio Croda, Wanderson Kleber de  Oliveira, Ro...</td>\n",
       "      <td>Submitted 04/06/2020 - Posted 04/08/2020</td>\n",
       "      <td>PDF</td>\n",
       "      <td>https://preprints.scielo.org/index.php/scielo/...</td>\n",
       "      <td>2020-04-06</td>\n",
       "      <td>2020-04-08</td>\n",
       "      <td>t000315</td>\n",
       "      <td>Health Sciences</td>\n",
       "      <td>Literature Review, Methodology, Results, Discu...</td>\n",
       "      <td>Paragraph 16</td>\n",
       "      <td>Regarding cultural differences, the use of mas...</td>\n",
       "      <td>With respect to cultural differences, the use ...</td>\n",
       "    </tr>\n",
       "    <tr>\n",
       "      <th>11525</th>\n",
       "      <td>COVID-19 in Brazil: advantages of a socialized...</td>\n",
       "      <td>https://preprints.scielo.org/index.php/scielo/...</td>\n",
       "      <td>Julio Croda, Wanderson Kleber de  Oliveira, Ro...</td>\n",
       "      <td>Submitted 04/06/2020 - Posted 04/08/2020</td>\n",
       "      <td>PDF</td>\n",
       "      <td>https://preprints.scielo.org/index.php/scielo/...</td>\n",
       "      <td>2020-04-06</td>\n",
       "      <td>2020-04-08</td>\n",
       "      <td>t000315</td>\n",
       "      <td>Health Sciences</td>\n",
       "      <td>Literature Review, Methodology, Results, Discu...</td>\n",
       "      <td>Paragraph 17</td>\n",
       "      <td>Physical distancing is a measure that should b...</td>\n",
       "      <td>Physical distancing should be recommended at a...</td>\n",
       "    </tr>\n",
       "    <tr>\n",
       "      <th>11526</th>\n",
       "      <td>COVID-19 in Brazil: advantages of a socialized...</td>\n",
       "      <td>https://preprints.scielo.org/index.php/scielo/...</td>\n",
       "      <td>Julio Croda, Wanderson Kleber de  Oliveira, Ro...</td>\n",
       "      <td>Submitted 04/06/2020 - Posted 04/08/2020</td>\n",
       "      <td>PDF</td>\n",
       "      <td>https://preprints.scielo.org/index.php/scielo/...</td>\n",
       "      <td>2020-04-06</td>\n",
       "      <td>2020-04-08</td>\n",
       "      <td>t000315</td>\n",
       "      <td>Health Sciences</td>\n",
       "      <td>Acknowledgements</td>\n",
       "      <td>Paragraph 1</td>\n",
       "      <td>We thank Judith Recht for the critical review ...</td>\n",
       "      <td>We thank Judith Recht for her critical review ...</td>\n",
       "    </tr>\n",
       "  </tbody>\n",
       "</table>\n",
       "<p>11527 rows × 14 columns</p>\n",
       "</div>"
      ],
      "text/plain": [
       "                                                   Title  \\\n",
       "0      (Fern flora of Viçosa, Minas Gerais State, Bra...   \n",
       "1      (Fern flora of Viçosa, Minas Gerais State, Bra...   \n",
       "2      (Fern flora of Viçosa, Minas Gerais State, Bra...   \n",
       "3      (Fern flora of Viçosa, Minas Gerais State, Bra...   \n",
       "4      (Fern flora of Viçosa, Minas Gerais State, Bra...   \n",
       "...                                                  ...   \n",
       "11522  COVID-19 in Brazil: advantages of a socialized...   \n",
       "11523  COVID-19 in Brazil: advantages of a socialized...   \n",
       "11524  COVID-19 in Brazil: advantages of a socialized...   \n",
       "11525  COVID-19 in Brazil: advantages of a socialized...   \n",
       "11526  COVID-19 in Brazil: advantages of a socialized...   \n",
       "\n",
       "                                                     URL  \\\n",
       "0      https://preprints.scielo.org/index.php/scielo/...   \n",
       "1      https://preprints.scielo.org/index.php/scielo/...   \n",
       "2      https://preprints.scielo.org/index.php/scielo/...   \n",
       "3      https://preprints.scielo.org/index.php/scielo/...   \n",
       "4      https://preprints.scielo.org/index.php/scielo/...   \n",
       "...                                                  ...   \n",
       "11522  https://preprints.scielo.org/index.php/scielo/...   \n",
       "11523  https://preprints.scielo.org/index.php/scielo/...   \n",
       "11524  https://preprints.scielo.org/index.php/scielo/...   \n",
       "11525  https://preprints.scielo.org/index.php/scielo/...   \n",
       "11526  https://preprints.scielo.org/index.php/scielo/...   \n",
       "\n",
       "                                                 Authors  \\\n",
       "0        Nelson Túlio Lage Pena, Pedro Bond Schwartsburd   \n",
       "1        Nelson Túlio Lage Pena, Pedro Bond Schwartsburd   \n",
       "2        Nelson Túlio Lage Pena, Pedro Bond Schwartsburd   \n",
       "3        Nelson Túlio Lage Pena, Pedro Bond Schwartsburd   \n",
       "4        Nelson Túlio Lage Pena, Pedro Bond Schwartsburd   \n",
       "...                                                  ...   \n",
       "11522  Julio Croda, Wanderson Kleber de  Oliveira, Ro...   \n",
       "11523  Julio Croda, Wanderson Kleber de  Oliveira, Ro...   \n",
       "11524  Julio Croda, Wanderson Kleber de  Oliveira, Ro...   \n",
       "11525  Julio Croda, Wanderson Kleber de  Oliveira, Ro...   \n",
       "11526  Julio Croda, Wanderson Kleber de  Oliveira, Ro...   \n",
       "\n",
       "                                      Published PDF Language  \\\n",
       "0      Submitted 11/22/2022 - Posted 11/23/2022          PDF   \n",
       "1      Submitted 11/22/2022 - Posted 11/23/2022          PDF   \n",
       "2      Submitted 11/22/2022 - Posted 11/23/2022          PDF   \n",
       "3      Submitted 11/22/2022 - Posted 11/23/2022          PDF   \n",
       "4      Submitted 11/22/2022 - Posted 11/23/2022          PDF   \n",
       "...                                         ...          ...   \n",
       "11522  Submitted 04/06/2020 - Posted 04/08/2020          PDF   \n",
       "11523  Submitted 04/06/2020 - Posted 04/08/2020          PDF   \n",
       "11524  Submitted 04/06/2020 - Posted 04/08/2020          PDF   \n",
       "11525  Submitted 04/06/2020 - Posted 04/08/2020          PDF   \n",
       "11526  Submitted 04/06/2020 - Posted 04/08/2020          PDF   \n",
       "\n",
       "                                                 PDF URL  Submitted  \\\n",
       "0      https://preprints.scielo.org/index.php/scielo/... 2022-11-22   \n",
       "1      https://preprints.scielo.org/index.php/scielo/... 2022-11-22   \n",
       "2      https://preprints.scielo.org/index.php/scielo/... 2022-11-22   \n",
       "3      https://preprints.scielo.org/index.php/scielo/... 2022-11-22   \n",
       "4      https://preprints.scielo.org/index.php/scielo/... 2022-11-22   \n",
       "...                                                  ...        ...   \n",
       "11522  https://preprints.scielo.org/index.php/scielo/... 2020-04-06   \n",
       "11523  https://preprints.scielo.org/index.php/scielo/... 2020-04-06   \n",
       "11524  https://preprints.scielo.org/index.php/scielo/... 2020-04-06   \n",
       "11525  https://preprints.scielo.org/index.php/scielo/... 2020-04-06   \n",
       "11526  https://preprints.scielo.org/index.php/scielo/... 2020-04-06   \n",
       "\n",
       "          Posted  Text ID    Area of Knowledge  \\\n",
       "0     2022-11-23  t000000  Biological Sciences   \n",
       "1     2022-11-23  t000000  Biological Sciences   \n",
       "2     2022-11-23  t000000  Biological Sciences   \n",
       "3     2022-11-23  t000000  Biological Sciences   \n",
       "4     2022-11-23  t000000  Biological Sciences   \n",
       "...          ...      ...                  ...   \n",
       "11522 2020-04-08  t000315      Health Sciences   \n",
       "11523 2020-04-08  t000315      Health Sciences   \n",
       "11524 2020-04-08  t000315      Health Sciences   \n",
       "11525 2020-04-08  t000315      Health Sciences   \n",
       "11526 2020-04-08  t000315      Health Sciences   \n",
       "\n",
       "                                                 Section     Paragraph  \\\n",
       "0                                               Abstract   Paragraph 1   \n",
       "1                        Introduction, Literature Review   Paragraph 1   \n",
       "2                        Introduction, Literature Review   Paragraph 2   \n",
       "3                        Introduction, Literature Review   Paragraph 3   \n",
       "4                        Introduction, Literature Review   Paragraph 4   \n",
       "...                                                  ...           ...   \n",
       "11522  Literature Review, Methodology, Results, Discu...  Paragraph 14   \n",
       "11523  Literature Review, Methodology, Results, Discu...  Paragraph 15   \n",
       "11524  Literature Review, Methodology, Results, Discu...  Paragraph 16   \n",
       "11525  Literature Review, Methodology, Results, Discu...  Paragraph 17   \n",
       "11526                                   Acknowledgements   Paragraph 1   \n",
       "\n",
       "                                          Text Paragraph  \\\n",
       "0      (Fern flora of Viçosa, Minas Gerais State, Bra...   \n",
       "1      At the end of the era in which the plant Class...   \n",
       "2      Brazil is represented by Dennstaedtiaceae with...   \n",
       "3      Pteridium is spread all across the globe (exce...   \n",
       "4      In the State of Minas Gerais, Dennstaedtiaceae...   \n",
       "...                                                  ...   \n",
       "11522  During the Zika epidemic, Brazil led the disco...   \n",
       "11523  Although Brazil is attempting to implement mea...   \n",
       "11524  Regarding cultural differences, the use of mas...   \n",
       "11525  Physical distancing is a measure that should b...   \n",
       "11526  We thank Judith Recht for the critical review ...   \n",
       "\n",
       "                                  Text Paragraph ChatGPT  \n",
       "0      As part of an ongoing project focused on the f...  \n",
       "1      At the end of the period when plant classifica...  \n",
       "2      In Brazil, Dennstaedtiaceae is represented by ...  \n",
       "3      Pteridium is distributed globally, with the ex...  \n",
       "4      In the state of Minas Gerais, the family Denns...  \n",
       "...                                                  ...  \n",
       "11522  During the Zika epidemic, Brazil was the first...  \n",
       "11523  Although Brazil is implementing measures to re...  \n",
       "11524  With respect to cultural differences, the use ...  \n",
       "11525  Physical distancing should be recommended at a...  \n",
       "11526  We thank Judith Recht for her critical review ...  \n",
       "\n",
       "[11527 rows x 14 columns]"
      ]
     },
     "execution_count": 7,
     "metadata": {},
     "output_type": "execute_result"
    }
   ],
   "source": [
    "df_el2ap"
   ]
  },
  {
   "cell_type": "markdown",
   "id": "c85b6fbc-75e5-452a-b9f1-bf3d203fec47",
   "metadata": {},
   "source": [
    "## Data Wrangling"
   ]
  },
  {
   "cell_type": "markdown",
   "id": "21af1e85-c232-4598-9397-90b1d3dd014a",
   "metadata": {},
   "source": [
    "### Paragraphs that could not be interpreted by ChatGPT"
   ]
  },
  {
   "cell_type": "markdown",
   "id": "8946ef95-eb50-44d8-a1e2-c10bd297d394",
   "metadata": {},
   "source": [
    "Those paragraphs are identified by the following ChatGPT responses:\n",
    "- 'Of course. Please provide the passage **you would like me to improve**.'\n",
    "- 'It appears that your message is incomplete. Please provide the passage **you would like me to improve**.'\n",
    "- 'Certainly. Please provide the passage **you would like me to improve**.'\n",
    "- 'Certainly! Please provide the passage **you would like me to improve**.'"
   ]
  },
  {
   "cell_type": "code",
   "execution_count": 8,
   "id": "4935ff5f-f461-411f-82fd-1297d1c68139",
   "metadata": {},
   "outputs": [],
   "source": [
    "# Get the indexes of rows containing the phrase 'you would like me to improve'\n",
    "index_list_with_phrase = df_el2ap[df_el2ap['Text Paragraph ChatGPT'].str.contains('you would like me to improve', na=False)].index.tolist()"
   ]
  },
  {
   "cell_type": "code",
   "execution_count": 9,
   "id": "5c2517be-62d3-4a4d-ba86-12acd17ffc84",
   "metadata": {},
   "outputs": [
    {
     "data": {
      "text/plain": [
       "20"
      ]
     },
     "execution_count": 9,
     "metadata": {},
     "output_type": "execute_result"
    }
   ],
   "source": [
    "len(index_list_with_phrase)"
   ]
  },
  {
   "cell_type": "code",
   "execution_count": 10,
   "id": "e2ccd59f-79cf-4ef7-8eda-cfc541ab64fa",
   "metadata": {},
   "outputs": [
    {
     "name": "stdout",
     "output_type": "stream",
     "text": [
      "[3411, 3429, 4877, 5043, 5066, 5075, 6612, 6624, 6626, 6628, 6630, 6634, 6636, 6638, 6645, 6647, 7743, 7918, 8165, 10073]\n"
     ]
    }
   ],
   "source": [
    "print(index_list_with_phrase)"
   ]
  },
  {
   "cell_type": "markdown",
   "id": "0a563155-1222-4c99-bc60-37885dffc7dc",
   "metadata": {},
   "source": [
    "### Paragraphs shorter than 10 words"
   ]
  },
  {
   "cell_type": "code",
   "execution_count": 11,
   "id": "3d25a649-7650-473c-914e-f281ceaa92e2",
   "metadata": {},
   "outputs": [],
   "source": [
    "# Slice the DataFrame where 'Text Paragraph' contains fewer than 10 words\n",
    "df_less_than_10_words = df_el2ap[df_el2ap['Text Paragraph'].apply(lambda x: len(str(x).split())) < 10]"
   ]
  },
  {
   "cell_type": "code",
   "execution_count": 12,
   "id": "42f583bc-6d2a-41e0-aec8-277c35242fed",
   "metadata": {},
   "outputs": [],
   "source": [
    "# Write the contents of the column 'Text Paragraph' to a text file\n",
    "df_less_than_10_words['Text Paragraph'].to_csv(f\"{output_directory}/df_less_than_10_words.txt\", index=False, header=False)"
   ]
  },
  {
   "cell_type": "code",
   "execution_count": 13,
   "id": "e953bc95-556a-4f9a-8ada-538e50f20ffc",
   "metadata": {},
   "outputs": [],
   "source": [
    "# Get the indexes of rows where 'Text Paragraph' contains less than 10 words\n",
    "index_list_less_than_10_words = df_el2ap[df_el2ap['Text Paragraph'].apply(lambda x: len(str(x).split())) < 10].index.tolist()"
   ]
  },
  {
   "cell_type": "code",
   "execution_count": 14,
   "id": "6b1c57ec-86b4-4d9b-8d16-9bf171007a53",
   "metadata": {},
   "outputs": [
    {
     "data": {
      "text/plain": [
       "391"
      ]
     },
     "execution_count": 14,
     "metadata": {},
     "output_type": "execute_result"
    }
   ],
   "source": [
    "len(index_list_less_than_10_words)"
   ]
  },
  {
   "cell_type": "markdown",
   "id": "e58d63a4-0f25-4f5c-8de4-cdb449419c7a",
   "metadata": {},
   "source": [
    "### Consolidate an index list for filtering the DataFrame"
   ]
  },
  {
   "cell_type": "code",
   "execution_count": 15,
   "id": "2644ef3e-5c79-4d5a-a45c-9e57ccb457fe",
   "metadata": {},
   "outputs": [],
   "source": [
    "# Merge the two lists, remove duplicates, and sort in descending order\n",
    "index_list_for_filtering = sorted(set(index_list_with_phrase + index_list_less_than_10_words), reverse=True)"
   ]
  },
  {
   "cell_type": "code",
   "execution_count": 16,
   "id": "7b6c8543-ff67-4280-84ad-c905f199ded0",
   "metadata": {},
   "outputs": [
    {
     "data": {
      "text/plain": [
       "391"
      ]
     },
     "execution_count": 16,
     "metadata": {},
     "output_type": "execute_result"
    }
   ],
   "source": [
    "len(index_list_for_filtering)"
   ]
  },
  {
   "cell_type": "markdown",
   "id": "6f88c9f9-d231-4769-a4ec-5462da18af51",
   "metadata": {},
   "source": [
    "### Dropping the filtered rows"
   ]
  },
  {
   "cell_type": "code",
   "execution_count": 17,
   "id": "8d006258-2d50-4546-b445-df25e03157a6",
   "metadata": {},
   "outputs": [],
   "source": [
    "df_el2ap.drop(index_list_for_filtering, inplace=True)"
   ]
  },
  {
   "cell_type": "code",
   "execution_count": 18,
   "id": "608557e9-54ca-4bd8-ac78-f5f0d556247a",
   "metadata": {},
   "outputs": [
    {
     "data": {
      "text/html": [
       "<div>\n",
       "<style scoped>\n",
       "    .dataframe tbody tr th:only-of-type {\n",
       "        vertical-align: middle;\n",
       "    }\n",
       "\n",
       "    .dataframe tbody tr th {\n",
       "        vertical-align: top;\n",
       "    }\n",
       "\n",
       "    .dataframe thead th {\n",
       "        text-align: right;\n",
       "    }\n",
       "</style>\n",
       "<table border=\"1\" class=\"dataframe\">\n",
       "  <thead>\n",
       "    <tr style=\"text-align: right;\">\n",
       "      <th></th>\n",
       "      <th>Title</th>\n",
       "      <th>URL</th>\n",
       "      <th>Authors</th>\n",
       "      <th>Published</th>\n",
       "      <th>PDF Language</th>\n",
       "      <th>PDF URL</th>\n",
       "      <th>Submitted</th>\n",
       "      <th>Posted</th>\n",
       "      <th>Text ID</th>\n",
       "      <th>Area of Knowledge</th>\n",
       "      <th>Section</th>\n",
       "      <th>Paragraph</th>\n",
       "      <th>Text Paragraph</th>\n",
       "      <th>Text Paragraph ChatGPT</th>\n",
       "    </tr>\n",
       "  </thead>\n",
       "  <tbody>\n",
       "    <tr>\n",
       "      <th>0</th>\n",
       "      <td>(Fern flora of Viçosa, Minas Gerais State, Bra...</td>\n",
       "      <td>https://preprints.scielo.org/index.php/scielo/...</td>\n",
       "      <td>Nelson Túlio Lage Pena, Pedro Bond Schwartsburd</td>\n",
       "      <td>Submitted 11/22/2022 - Posted 11/23/2022</td>\n",
       "      <td>PDF</td>\n",
       "      <td>https://preprints.scielo.org/index.php/scielo/...</td>\n",
       "      <td>2022-11-22</td>\n",
       "      <td>2022-11-23</td>\n",
       "      <td>t000000</td>\n",
       "      <td>Biological Sciences</td>\n",
       "      <td>Abstract</td>\n",
       "      <td>Paragraph 1</td>\n",
       "      <td>(Fern flora of Viçosa, Minas Gerais State, Bra...</td>\n",
       "      <td>As part of an ongoing project focused on the f...</td>\n",
       "    </tr>\n",
       "    <tr>\n",
       "      <th>1</th>\n",
       "      <td>(Fern flora of Viçosa, Minas Gerais State, Bra...</td>\n",
       "      <td>https://preprints.scielo.org/index.php/scielo/...</td>\n",
       "      <td>Nelson Túlio Lage Pena, Pedro Bond Schwartsburd</td>\n",
       "      <td>Submitted 11/22/2022 - Posted 11/23/2022</td>\n",
       "      <td>PDF</td>\n",
       "      <td>https://preprints.scielo.org/index.php/scielo/...</td>\n",
       "      <td>2022-11-22</td>\n",
       "      <td>2022-11-23</td>\n",
       "      <td>t000000</td>\n",
       "      <td>Biological Sciences</td>\n",
       "      <td>Introduction, Literature Review</td>\n",
       "      <td>Paragraph 1</td>\n",
       "      <td>At the end of the era in which the plant Class...</td>\n",
       "      <td>At the end of the period when plant classifica...</td>\n",
       "    </tr>\n",
       "    <tr>\n",
       "      <th>2</th>\n",
       "      <td>(Fern flora of Viçosa, Minas Gerais State, Bra...</td>\n",
       "      <td>https://preprints.scielo.org/index.php/scielo/...</td>\n",
       "      <td>Nelson Túlio Lage Pena, Pedro Bond Schwartsburd</td>\n",
       "      <td>Submitted 11/22/2022 - Posted 11/23/2022</td>\n",
       "      <td>PDF</td>\n",
       "      <td>https://preprints.scielo.org/index.php/scielo/...</td>\n",
       "      <td>2022-11-22</td>\n",
       "      <td>2022-11-23</td>\n",
       "      <td>t000000</td>\n",
       "      <td>Biological Sciences</td>\n",
       "      <td>Introduction, Literature Review</td>\n",
       "      <td>Paragraph 2</td>\n",
       "      <td>Brazil is represented by Dennstaedtiaceae with...</td>\n",
       "      <td>In Brazil, Dennstaedtiaceae is represented by ...</td>\n",
       "    </tr>\n",
       "    <tr>\n",
       "      <th>3</th>\n",
       "      <td>(Fern flora of Viçosa, Minas Gerais State, Bra...</td>\n",
       "      <td>https://preprints.scielo.org/index.php/scielo/...</td>\n",
       "      <td>Nelson Túlio Lage Pena, Pedro Bond Schwartsburd</td>\n",
       "      <td>Submitted 11/22/2022 - Posted 11/23/2022</td>\n",
       "      <td>PDF</td>\n",
       "      <td>https://preprints.scielo.org/index.php/scielo/...</td>\n",
       "      <td>2022-11-22</td>\n",
       "      <td>2022-11-23</td>\n",
       "      <td>t000000</td>\n",
       "      <td>Biological Sciences</td>\n",
       "      <td>Introduction, Literature Review</td>\n",
       "      <td>Paragraph 3</td>\n",
       "      <td>Pteridium is spread all across the globe (exce...</td>\n",
       "      <td>Pteridium is distributed globally, with the ex...</td>\n",
       "    </tr>\n",
       "    <tr>\n",
       "      <th>4</th>\n",
       "      <td>(Fern flora of Viçosa, Minas Gerais State, Bra...</td>\n",
       "      <td>https://preprints.scielo.org/index.php/scielo/...</td>\n",
       "      <td>Nelson Túlio Lage Pena, Pedro Bond Schwartsburd</td>\n",
       "      <td>Submitted 11/22/2022 - Posted 11/23/2022</td>\n",
       "      <td>PDF</td>\n",
       "      <td>https://preprints.scielo.org/index.php/scielo/...</td>\n",
       "      <td>2022-11-22</td>\n",
       "      <td>2022-11-23</td>\n",
       "      <td>t000000</td>\n",
       "      <td>Biological Sciences</td>\n",
       "      <td>Introduction, Literature Review</td>\n",
       "      <td>Paragraph 4</td>\n",
       "      <td>In the State of Minas Gerais, Dennstaedtiaceae...</td>\n",
       "      <td>In the state of Minas Gerais, the family Denns...</td>\n",
       "    </tr>\n",
       "    <tr>\n",
       "      <th>...</th>\n",
       "      <td>...</td>\n",
       "      <td>...</td>\n",
       "      <td>...</td>\n",
       "      <td>...</td>\n",
       "      <td>...</td>\n",
       "      <td>...</td>\n",
       "      <td>...</td>\n",
       "      <td>...</td>\n",
       "      <td>...</td>\n",
       "      <td>...</td>\n",
       "      <td>...</td>\n",
       "      <td>...</td>\n",
       "      <td>...</td>\n",
       "      <td>...</td>\n",
       "    </tr>\n",
       "    <tr>\n",
       "      <th>11522</th>\n",
       "      <td>COVID-19 in Brazil: advantages of a socialized...</td>\n",
       "      <td>https://preprints.scielo.org/index.php/scielo/...</td>\n",
       "      <td>Julio Croda, Wanderson Kleber de  Oliveira, Ro...</td>\n",
       "      <td>Submitted 04/06/2020 - Posted 04/08/2020</td>\n",
       "      <td>PDF</td>\n",
       "      <td>https://preprints.scielo.org/index.php/scielo/...</td>\n",
       "      <td>2020-04-06</td>\n",
       "      <td>2020-04-08</td>\n",
       "      <td>t000315</td>\n",
       "      <td>Health Sciences</td>\n",
       "      <td>Literature Review, Methodology, Results, Discu...</td>\n",
       "      <td>Paragraph 14</td>\n",
       "      <td>During the Zika epidemic, Brazil led the disco...</td>\n",
       "      <td>During the Zika epidemic, Brazil was the first...</td>\n",
       "    </tr>\n",
       "    <tr>\n",
       "      <th>11523</th>\n",
       "      <td>COVID-19 in Brazil: advantages of a socialized...</td>\n",
       "      <td>https://preprints.scielo.org/index.php/scielo/...</td>\n",
       "      <td>Julio Croda, Wanderson Kleber de  Oliveira, Ro...</td>\n",
       "      <td>Submitted 04/06/2020 - Posted 04/08/2020</td>\n",
       "      <td>PDF</td>\n",
       "      <td>https://preprints.scielo.org/index.php/scielo/...</td>\n",
       "      <td>2020-04-06</td>\n",
       "      <td>2020-04-08</td>\n",
       "      <td>t000315</td>\n",
       "      <td>Health Sciences</td>\n",
       "      <td>Literature Review, Methodology, Results, Discu...</td>\n",
       "      <td>Paragraph 15</td>\n",
       "      <td>Although Brazil is attempting to implement mea...</td>\n",
       "      <td>Although Brazil is implementing measures to re...</td>\n",
       "    </tr>\n",
       "    <tr>\n",
       "      <th>11524</th>\n",
       "      <td>COVID-19 in Brazil: advantages of a socialized...</td>\n",
       "      <td>https://preprints.scielo.org/index.php/scielo/...</td>\n",
       "      <td>Julio Croda, Wanderson Kleber de  Oliveira, Ro...</td>\n",
       "      <td>Submitted 04/06/2020 - Posted 04/08/2020</td>\n",
       "      <td>PDF</td>\n",
       "      <td>https://preprints.scielo.org/index.php/scielo/...</td>\n",
       "      <td>2020-04-06</td>\n",
       "      <td>2020-04-08</td>\n",
       "      <td>t000315</td>\n",
       "      <td>Health Sciences</td>\n",
       "      <td>Literature Review, Methodology, Results, Discu...</td>\n",
       "      <td>Paragraph 16</td>\n",
       "      <td>Regarding cultural differences, the use of mas...</td>\n",
       "      <td>With respect to cultural differences, the use ...</td>\n",
       "    </tr>\n",
       "    <tr>\n",
       "      <th>11525</th>\n",
       "      <td>COVID-19 in Brazil: advantages of a socialized...</td>\n",
       "      <td>https://preprints.scielo.org/index.php/scielo/...</td>\n",
       "      <td>Julio Croda, Wanderson Kleber de  Oliveira, Ro...</td>\n",
       "      <td>Submitted 04/06/2020 - Posted 04/08/2020</td>\n",
       "      <td>PDF</td>\n",
       "      <td>https://preprints.scielo.org/index.php/scielo/...</td>\n",
       "      <td>2020-04-06</td>\n",
       "      <td>2020-04-08</td>\n",
       "      <td>t000315</td>\n",
       "      <td>Health Sciences</td>\n",
       "      <td>Literature Review, Methodology, Results, Discu...</td>\n",
       "      <td>Paragraph 17</td>\n",
       "      <td>Physical distancing is a measure that should b...</td>\n",
       "      <td>Physical distancing should be recommended at a...</td>\n",
       "    </tr>\n",
       "    <tr>\n",
       "      <th>11526</th>\n",
       "      <td>COVID-19 in Brazil: advantages of a socialized...</td>\n",
       "      <td>https://preprints.scielo.org/index.php/scielo/...</td>\n",
       "      <td>Julio Croda, Wanderson Kleber de  Oliveira, Ro...</td>\n",
       "      <td>Submitted 04/06/2020 - Posted 04/08/2020</td>\n",
       "      <td>PDF</td>\n",
       "      <td>https://preprints.scielo.org/index.php/scielo/...</td>\n",
       "      <td>2020-04-06</td>\n",
       "      <td>2020-04-08</td>\n",
       "      <td>t000315</td>\n",
       "      <td>Health Sciences</td>\n",
       "      <td>Acknowledgements</td>\n",
       "      <td>Paragraph 1</td>\n",
       "      <td>We thank Judith Recht for the critical review ...</td>\n",
       "      <td>We thank Judith Recht for her critical review ...</td>\n",
       "    </tr>\n",
       "  </tbody>\n",
       "</table>\n",
       "<p>11136 rows × 14 columns</p>\n",
       "</div>"
      ],
      "text/plain": [
       "                                                   Title  \\\n",
       "0      (Fern flora of Viçosa, Minas Gerais State, Bra...   \n",
       "1      (Fern flora of Viçosa, Minas Gerais State, Bra...   \n",
       "2      (Fern flora of Viçosa, Minas Gerais State, Bra...   \n",
       "3      (Fern flora of Viçosa, Minas Gerais State, Bra...   \n",
       "4      (Fern flora of Viçosa, Minas Gerais State, Bra...   \n",
       "...                                                  ...   \n",
       "11522  COVID-19 in Brazil: advantages of a socialized...   \n",
       "11523  COVID-19 in Brazil: advantages of a socialized...   \n",
       "11524  COVID-19 in Brazil: advantages of a socialized...   \n",
       "11525  COVID-19 in Brazil: advantages of a socialized...   \n",
       "11526  COVID-19 in Brazil: advantages of a socialized...   \n",
       "\n",
       "                                                     URL  \\\n",
       "0      https://preprints.scielo.org/index.php/scielo/...   \n",
       "1      https://preprints.scielo.org/index.php/scielo/...   \n",
       "2      https://preprints.scielo.org/index.php/scielo/...   \n",
       "3      https://preprints.scielo.org/index.php/scielo/...   \n",
       "4      https://preprints.scielo.org/index.php/scielo/...   \n",
       "...                                                  ...   \n",
       "11522  https://preprints.scielo.org/index.php/scielo/...   \n",
       "11523  https://preprints.scielo.org/index.php/scielo/...   \n",
       "11524  https://preprints.scielo.org/index.php/scielo/...   \n",
       "11525  https://preprints.scielo.org/index.php/scielo/...   \n",
       "11526  https://preprints.scielo.org/index.php/scielo/...   \n",
       "\n",
       "                                                 Authors  \\\n",
       "0        Nelson Túlio Lage Pena, Pedro Bond Schwartsburd   \n",
       "1        Nelson Túlio Lage Pena, Pedro Bond Schwartsburd   \n",
       "2        Nelson Túlio Lage Pena, Pedro Bond Schwartsburd   \n",
       "3        Nelson Túlio Lage Pena, Pedro Bond Schwartsburd   \n",
       "4        Nelson Túlio Lage Pena, Pedro Bond Schwartsburd   \n",
       "...                                                  ...   \n",
       "11522  Julio Croda, Wanderson Kleber de  Oliveira, Ro...   \n",
       "11523  Julio Croda, Wanderson Kleber de  Oliveira, Ro...   \n",
       "11524  Julio Croda, Wanderson Kleber de  Oliveira, Ro...   \n",
       "11525  Julio Croda, Wanderson Kleber de  Oliveira, Ro...   \n",
       "11526  Julio Croda, Wanderson Kleber de  Oliveira, Ro...   \n",
       "\n",
       "                                      Published PDF Language  \\\n",
       "0      Submitted 11/22/2022 - Posted 11/23/2022          PDF   \n",
       "1      Submitted 11/22/2022 - Posted 11/23/2022          PDF   \n",
       "2      Submitted 11/22/2022 - Posted 11/23/2022          PDF   \n",
       "3      Submitted 11/22/2022 - Posted 11/23/2022          PDF   \n",
       "4      Submitted 11/22/2022 - Posted 11/23/2022          PDF   \n",
       "...                                         ...          ...   \n",
       "11522  Submitted 04/06/2020 - Posted 04/08/2020          PDF   \n",
       "11523  Submitted 04/06/2020 - Posted 04/08/2020          PDF   \n",
       "11524  Submitted 04/06/2020 - Posted 04/08/2020          PDF   \n",
       "11525  Submitted 04/06/2020 - Posted 04/08/2020          PDF   \n",
       "11526  Submitted 04/06/2020 - Posted 04/08/2020          PDF   \n",
       "\n",
       "                                                 PDF URL  Submitted  \\\n",
       "0      https://preprints.scielo.org/index.php/scielo/... 2022-11-22   \n",
       "1      https://preprints.scielo.org/index.php/scielo/... 2022-11-22   \n",
       "2      https://preprints.scielo.org/index.php/scielo/... 2022-11-22   \n",
       "3      https://preprints.scielo.org/index.php/scielo/... 2022-11-22   \n",
       "4      https://preprints.scielo.org/index.php/scielo/... 2022-11-22   \n",
       "...                                                  ...        ...   \n",
       "11522  https://preprints.scielo.org/index.php/scielo/... 2020-04-06   \n",
       "11523  https://preprints.scielo.org/index.php/scielo/... 2020-04-06   \n",
       "11524  https://preprints.scielo.org/index.php/scielo/... 2020-04-06   \n",
       "11525  https://preprints.scielo.org/index.php/scielo/... 2020-04-06   \n",
       "11526  https://preprints.scielo.org/index.php/scielo/... 2020-04-06   \n",
       "\n",
       "          Posted  Text ID    Area of Knowledge  \\\n",
       "0     2022-11-23  t000000  Biological Sciences   \n",
       "1     2022-11-23  t000000  Biological Sciences   \n",
       "2     2022-11-23  t000000  Biological Sciences   \n",
       "3     2022-11-23  t000000  Biological Sciences   \n",
       "4     2022-11-23  t000000  Biological Sciences   \n",
       "...          ...      ...                  ...   \n",
       "11522 2020-04-08  t000315      Health Sciences   \n",
       "11523 2020-04-08  t000315      Health Sciences   \n",
       "11524 2020-04-08  t000315      Health Sciences   \n",
       "11525 2020-04-08  t000315      Health Sciences   \n",
       "11526 2020-04-08  t000315      Health Sciences   \n",
       "\n",
       "                                                 Section     Paragraph  \\\n",
       "0                                               Abstract   Paragraph 1   \n",
       "1                        Introduction, Literature Review   Paragraph 1   \n",
       "2                        Introduction, Literature Review   Paragraph 2   \n",
       "3                        Introduction, Literature Review   Paragraph 3   \n",
       "4                        Introduction, Literature Review   Paragraph 4   \n",
       "...                                                  ...           ...   \n",
       "11522  Literature Review, Methodology, Results, Discu...  Paragraph 14   \n",
       "11523  Literature Review, Methodology, Results, Discu...  Paragraph 15   \n",
       "11524  Literature Review, Methodology, Results, Discu...  Paragraph 16   \n",
       "11525  Literature Review, Methodology, Results, Discu...  Paragraph 17   \n",
       "11526                                   Acknowledgements   Paragraph 1   \n",
       "\n",
       "                                          Text Paragraph  \\\n",
       "0      (Fern flora of Viçosa, Minas Gerais State, Bra...   \n",
       "1      At the end of the era in which the plant Class...   \n",
       "2      Brazil is represented by Dennstaedtiaceae with...   \n",
       "3      Pteridium is spread all across the globe (exce...   \n",
       "4      In the State of Minas Gerais, Dennstaedtiaceae...   \n",
       "...                                                  ...   \n",
       "11522  During the Zika epidemic, Brazil led the disco...   \n",
       "11523  Although Brazil is attempting to implement mea...   \n",
       "11524  Regarding cultural differences, the use of mas...   \n",
       "11525  Physical distancing is a measure that should b...   \n",
       "11526  We thank Judith Recht for the critical review ...   \n",
       "\n",
       "                                  Text Paragraph ChatGPT  \n",
       "0      As part of an ongoing project focused on the f...  \n",
       "1      At the end of the period when plant classifica...  \n",
       "2      In Brazil, Dennstaedtiaceae is represented by ...  \n",
       "3      Pteridium is distributed globally, with the ex...  \n",
       "4      In the state of Minas Gerais, the family Denns...  \n",
       "...                                                  ...  \n",
       "11522  During the Zika epidemic, Brazil was the first...  \n",
       "11523  Although Brazil is implementing measures to re...  \n",
       "11524  With respect to cultural differences, the use ...  \n",
       "11525  Physical distancing should be recommended at a...  \n",
       "11526  We thank Judith Recht for her critical review ...  \n",
       "\n",
       "[11136 rows x 14 columns]"
      ]
     },
     "execution_count": 18,
     "metadata": {},
     "output_type": "execute_result"
    }
   ],
   "source": [
    "df_el2ap"
   ]
  },
  {
   "cell_type": "markdown",
   "id": "a8477312-81ad-47e0-8d55-c089d2600e29",
   "metadata": {},
   "source": [
    "### Minimum and maximum paragraph lengths in the column `Text Paragraph`"
   ]
  },
  {
   "cell_type": "code",
   "execution_count": 19,
   "id": "ac9f50ee-6dd1-49fb-8e34-5ed7091ae866",
   "metadata": {},
   "outputs": [
    {
     "data": {
      "text/plain": [
       "(10, 503)"
      ]
     },
     "execution_count": 19,
     "metadata": {},
     "output_type": "execute_result"
    }
   ],
   "source": [
    "# Calculate the length of each paragraph\n",
    "paragraph_lengths = df_el2ap['Text Paragraph'].apply(lambda x: len(str(x).split()))\n",
    "\n",
    "# Get the minimum and maximum lengths\n",
    "min_length = paragraph_lengths.min()\n",
    "max_length = paragraph_lengths.max()\n",
    "\n",
    "# Display the results\n",
    "min_length, max_length"
   ]
  },
  {
   "cell_type": "markdown",
   "id": "d8dced99-e9ef-41b1-af38-d1207d6c369d",
   "metadata": {},
   "source": [
    "### Minimum and maximum paragraph lengths in the column `Text Paragraph ChatGPT`"
   ]
  },
  {
   "cell_type": "code",
   "execution_count": 20,
   "id": "9bbc7d8d-ddb0-451a-b843-c6f5cf2f2928",
   "metadata": {},
   "outputs": [
    {
     "data": {
      "text/plain": [
       "(10, 503)"
      ]
     },
     "execution_count": 20,
     "metadata": {},
     "output_type": "execute_result"
    }
   ],
   "source": [
    "# Calculate the length of each paragraph\n",
    "paragraph_lengths_chatgpt = df_el2ap['Text Paragraph ChatGPT'].apply(lambda x: len(str(x).split()))\n",
    "\n",
    "# Get the minimum and maximum lengths\n",
    "min_length_chatgpt = paragraph_lengths.min()\n",
    "max_length_chatgpt = paragraph_lengths.max()\n",
    "\n",
    "# Display the results\n",
    "min_length_chatgpt, max_length_chatgpt"
   ]
  },
  {
   "cell_type": "markdown",
   "id": "f83144fd-7d8e-40f7-9051-42adc9069bbc",
   "metadata": {},
   "source": [
    "### Identifying characters that could be problematic for processing"
   ]
  },
  {
   "cell_type": "markdown",
   "id": "390a17c8-6075-4fe1-aeca-ac08db0dc823",
   "metadata": {},
   "source": [
    "#### In column `Text Paragraph`"
   ]
  },
  {
   "cell_type": "code",
   "execution_count": 21,
   "id": "0c355421-a0b0-4583-96df-fd44b08c41e2",
   "metadata": {},
   "outputs": [
    {
     "name": "stdout",
     "output_type": "stream",
     "text": [
      "{'D', '£', 'ﬃ', 'ε', '4', '𝛥', 'y', 'ł', 'ê', '|', '®', 'é', '©', 'É', '\\uf0d2', '𝑘', '𝑀', 'ĩ', '∋', '*', 'T', '\"', '𝑗', '𝜑', '×', '⇒', '·', '𝑍', 'ã', 'i', 'Ê', '𝑟', '𝑊', '𝑖', 'ś', 'Ó', 'Ç', '1', 'R', 'ß', \"'\", 'Š', 'c', '𝑑', '𝐹', 'x', '∙', '_', 'ℎ', 'G', 'ť', 'u', '§', 'ó', 'B', '?', 'r', '𝑛', '𝑃', '“', '𝝌', 'ü', 'Ã', 'g', 'Ü', 'v', '=', '𝜆', 'Å', '𝑠', '𝒇', '𝛽', 'õ', 'º', '𝛹', 'π', 'ø', '@', 'ë', '❤', '№', 's', 'è', '𝑒', '—', '℃', 'Ú', '𝜎', '𝐴', 'ǧ', '7', ':', 'm', '●', 'Y', '[', '≤', '𝑆', 'ä', 'ï', '𝐷', '\\u200b', 'â', 'j', '↓', 'Ø', 'χ', 'X', 'Ć', '#', 'Φ', '9', '‒', 'γ', 'Ⓡ', '𝑎', '\\uf06c', '𝐺', 'à', 'o', '𝑞', '•', 'd', '∆', '𝐵', '∞', 'θ', 'Ñ', '̧', ',', '𝑏', '.', '𝑧', '\\uf05d', 'W', '𝜇', '°', 'μ', '𝜏', '\\\\', 'σ', 'M', '”', '´', '𝑢', '$', 'L', '\\uf0a3', '𝒊', 'ı', '𝑅', '𝑤', 'α', '0', '«', 'Ɣ', 'C', '™', 'Δ', '𝜖', '„', 'δ', 'ğ', 'ª', '&', '𝑋', 'č', 'À', 'O', '⋅', 't', '−', '}', 'κ', '≠', '𝑚', 'á', '²', 'Á', '̃', 'f', 'Ᾰ', 'Õ', '𝑐', '+', 'ﬀ', '5', '𝐼', '≥', '½', '′', '3', 'Ε', 'ż', 'ö', 'J', '/', 'ϒ', 'E', 'τ', '𝜃', 'ý', 'Z', 'l', 'ﬂ', 'h', 'ω', 'U', 'ﬁ', 'ũ', '⋯', '𝐻', 'N', '\\uf0b1', '\\uf05b', 'β', 'İ', ')', ';', '2', 'í', 'I', '8', '»', '́', 'ℛ', '¹', '―', 'p', '𝑔', 'k', 'ú', 'Ğ', '𝒙', 'ˆ', '𝜋', '…', '𝑙', '‘', '‑', 'ç', '±', '¼', 'λ', '-', 'ć', '!', 'ò', '∑', 'S', '˚', 'ş', '(', 'n', '∼', '𝑇', '\\xad', '∗', '̅', 'Ö', '″', 'H', 'A', ']', 'b', '³', '𝑓', '’', '𝛼', 'F', 'ô', 'ì', 'φ', '¨', 'V', '𝑡', 'Í', '𝐶', '6', '˜', '∈', 'e', '𝑣', 'η', 'ρ', 'a', '𝑥', 'P', '𝑦', '𝛾', '𝜂', '€', '𝜔', '𝑜', 'ñ', '¸', '`', '–', 'Q', 'å', 'Ω', 'q', 'ɳ', '~', '≅', 'K', 'µ', 'z', '<', 'w', '𝜅', ' ', '%', 'š', '{', '𝜌', '𝜀', '>', '‐', '𝑝'}\n"
     ]
    }
   ],
   "source": [
    "# Combine all paragraphs into a single string\n",
    "combined_text = ''.join(df_el2ap['Text Paragraph'].dropna())\n",
    "\n",
    "# Get the set of unique characters\n",
    "unique_characters = set(combined_text)\n",
    "\n",
    "# Display the set of characters\n",
    "print(unique_characters)"
   ]
  },
  {
   "cell_type": "markdown",
   "id": "29007be6-5905-4834-95c5-c88991cab946",
   "metadata": {},
   "source": [
    "#### In column `Text Paragraph ChatGPT`"
   ]
  },
  {
   "cell_type": "code",
   "execution_count": 22,
   "id": "c1170e29-540e-4860-bb7f-4b48c4aff243",
   "metadata": {},
   "outputs": [
    {
     "name": "stdout",
     "output_type": "stream",
     "text": [
      "{'D', '£', 'ﬃ', 'ε', '4', '𝛥', 'y', 'ł', 'ê', '|', '®', 'é', '©', 'É', '\\uf0d2', '𝑘', '𝑀', 'ĩ', '∋', '*', 'T', '\"', '𝑗', '𝜑', '×', '⇒', '·', '𝑍', 'ã', 'i', 'Ê', '𝑟', '𝑊', '𝑖', 'ś', 'Ó', 'Ç', '1', 'R', 'ß', \"'\", 'Š', 'c', '𝑑', '𝐹', 'x', '∙', '_', 'ℎ', 'G', 'ť', 'u', '§', 'ó', 'B', '?', 'r', '𝑛', '𝑃', '“', '𝝌', 'ü', 'Ã', 'g', 'Ü', 'v', '=', '𝜆', 'Å', '𝑠', '𝒇', '𝛽', 'õ', 'º', '𝛹', 'π', 'ø', '@', 'ë', '❤', '№', 's', 'è', '𝑒', '—', '℃', 'Ú', '𝜎', '𝐴', 'ǧ', '7', ':', 'm', '●', 'Y', '[', '≤', '𝑆', 'ä', 'ï', '𝐷', '\\u200b', 'â', 'j', '↓', 'Ø', 'χ', 'X', 'Ć', '#', 'Φ', '9', '‒', 'γ', 'Ⓡ', '𝑎', '\\uf06c', '𝐺', 'à', 'o', '𝑞', '•', 'd', '∆', '𝐵', '∞', 'θ', 'Ñ', '̧', ',', '𝑏', '.', '𝑧', '\\uf05d', 'W', '𝜇', '°', 'μ', '𝜏', '\\\\', 'σ', 'M', '”', '´', '𝑢', '$', 'L', '\\uf0a3', '𝒊', 'ı', '𝑅', '𝑤', 'α', '0', '«', 'Ɣ', 'C', '™', 'Δ', '𝜖', '„', 'δ', 'ğ', 'ª', '&', '𝑋', 'č', 'À', 'O', '⋅', 't', '−', '}', 'κ', '≠', '𝑚', 'á', '²', 'Á', '̃', 'f', 'Ᾰ', 'Õ', '𝑐', '+', 'ﬀ', '5', '𝐼', '≥', '½', '′', '3', 'Ε', 'ż', 'ö', 'J', '/', 'ϒ', 'E', 'τ', '𝜃', 'ý', 'Z', 'l', 'ﬂ', 'h', 'ω', 'U', 'ﬁ', 'ũ', '⋯', '𝐻', 'N', '\\uf0b1', '\\uf05b', 'β', 'İ', ')', ';', '2', 'í', 'I', '8', '»', '́', 'ℛ', '¹', '―', 'p', '𝑔', 'k', 'ú', 'Ğ', '𝒙', 'ˆ', '𝜋', '…', '𝑙', '‘', '‑', 'ç', '±', '¼', 'λ', '-', 'ć', '!', 'ò', '∑', 'S', '˚', 'ş', '(', 'n', '∼', '𝑇', '\\xad', '∗', '̅', 'Ö', '″', 'H', 'A', ']', 'b', '³', '𝑓', '’', '𝛼', 'F', 'ô', 'ì', 'φ', '¨', 'V', '𝑡', 'Í', '𝐶', '6', '˜', '∈', 'e', '𝑣', 'η', 'ρ', 'a', '𝑥', 'P', '𝑦', '𝛾', '𝜂', '€', '𝜔', '𝑜', 'ñ', '¸', '`', '–', 'Q', 'å', 'Ω', 'q', 'ɳ', '~', '≅', 'K', 'µ', 'z', '<', 'w', '𝜅', ' ', '%', 'š', '{', '𝜌', '𝜀', '>', '‐', '𝑝'}\n"
     ]
    }
   ],
   "source": [
    "# Combine all paragraphs into a single string\n",
    "combined_text_chatgpt = ''.join(df_el2ap['Text Paragraph ChatGPT'].dropna())\n",
    "\n",
    "# Get the set of unique characters\n",
    "unique_characters_chatgpt = set(combined_text)\n",
    "\n",
    "# Display the set of characters\n",
    "print(unique_characters_chatgpt)"
   ]
  },
  {
   "cell_type": "markdown",
   "id": "3661db89-0103-4234-a3da-ed46aee299a8",
   "metadata": {},
   "source": [
    "### Export to a file"
   ]
  },
  {
   "cell_type": "code",
   "execution_count": 23,
   "id": "cf1f5763-4deb-42da-ae14-4cd3933f2c07",
   "metadata": {},
   "outputs": [],
   "source": [
    "df_el2ap.to_json(f\"{output_directory}/df_el2ap.jsonl\", orient='records', lines=True)"
   ]
  },
  {
   "cell_type": "code",
   "execution_count": 24,
   "id": "618cd102-ea28-475d-b603-e67d18e8b1b1",
   "metadata": {},
   "outputs": [],
   "source": [
    "df_el2ap.to_excel(f\"{output_directory}/df_el2ap.xlsx\")"
   ]
  },
  {
   "cell_type": "markdown",
   "id": "9d5a5d30-4ce8-4eab-a887-6dfc5531295e",
   "metadata": {},
   "source": [
    "## Word Count"
   ]
  },
  {
   "cell_type": "markdown",
   "id": "41b30e95-6208-46b7-a9d8-0d1143cfc8d4",
   "metadata": {},
   "source": [
    "### Calculate word counts for columns `Text Paragraph` and `Text Paragraph ChatGPT`"
   ]
  },
  {
   "cell_type": "code",
   "execution_count": 25,
   "id": "d2ab3051-5c7c-46a8-b495-0dafaa58be36",
   "metadata": {},
   "outputs": [
    {
     "name": "stderr",
     "output_type": "stream",
     "text": [
      "[nltk_data] Downloading package punkt to /home/eyamrog/nltk_data...\n",
      "[nltk_data]   Package punkt is already up-to-date!\n"
     ]
    }
   ],
   "source": [
    "# Download the required NLTK data (only if you haven't already)\n",
    "nltk.download('punkt')\n",
    "\n",
    "# Create the new column 'Text Paragraph Word Count'\n",
    "df_el2ap['Text Paragraph Word Count'] = df_el2ap['Text Paragraph'].apply(lambda x: len(word_tokenize(str(x))))\n",
    "\n",
    "# Create the new column 'Text Paragraph ChatGPT Word Count'\n",
    "df_el2ap['Text Paragraph ChatGPT Word Count'] = df_el2ap['Text Paragraph ChatGPT'].apply(lambda x: len(word_tokenize(str(x))))"
   ]
  },
  {
   "cell_type": "markdown",
   "id": "764ef817-d26b-4813-8a44-f7ffc8a0ad07",
   "metadata": {},
   "source": [
    "### `EL2AP` and `AI-EL2AP` corpora number of texts"
   ]
  },
  {
   "cell_type": "code",
   "execution_count": 26,
   "id": "4a4dda35-31ee-4ee2-a1f2-4467d26e2e61",
   "metadata": {},
   "outputs": [
    {
     "data": {
      "text/plain": [
       "316"
      ]
     },
     "execution_count": 26,
     "metadata": {},
     "output_type": "execute_result"
    }
   ],
   "source": [
    "# Calculate the number of unique values in the 'Text ID' column\n",
    "num_unique_text_ids = df_el2ap['Text ID'].nunique()\n",
    "\n",
    "# Display the result\n",
    "num_unique_text_ids"
   ]
  },
  {
   "cell_type": "markdown",
   "id": "103f73b7-1a1d-4171-98d6-4b2665125cf6",
   "metadata": {},
   "source": [
    "### `EL2AP` corpus number of tokens"
   ]
  },
  {
   "cell_type": "code",
   "execution_count": 27,
   "id": "971fccc4-da87-4d07-87fb-5c683ccd92fd",
   "metadata": {},
   "outputs": [
    {
     "data": {
      "text/plain": [
       "1194574"
      ]
     },
     "execution_count": 27,
     "metadata": {},
     "output_type": "execute_result"
    }
   ],
   "source": [
    "# Calculate the total number of words\n",
    "total_word_count = df_el2ap['Text Paragraph Word Count'].sum()\n",
    "\n",
    "# Display the total word count\n",
    "total_word_count"
   ]
  },
  {
   "cell_type": "markdown",
   "id": "078d8b04-fa0f-4b45-bf7d-e4c6af3e0723",
   "metadata": {},
   "source": [
    "### `AI-EL2AP` corpus number of tokens"
   ]
  },
  {
   "cell_type": "code",
   "execution_count": 28,
   "id": "a7f0621f-3ba7-4f74-9976-4c9bfbf97f33",
   "metadata": {},
   "outputs": [
    {
     "data": {
      "text/plain": [
       "1206295"
      ]
     },
     "execution_count": 28,
     "metadata": {},
     "output_type": "execute_result"
    }
   ],
   "source": [
    "# Calculate the total number of words\n",
    "total_word_count_chatgpt = df_el2ap['Text Paragraph ChatGPT Word Count'].sum()\n",
    "\n",
    "# Display the total word count\n",
    "total_word_count_chatgpt"
   ]
  },
  {
   "cell_type": "code",
   "execution_count": null,
   "id": "380c0622-067d-4bd0-b1c7-2bc2cca03d53",
   "metadata": {},
   "outputs": [],
   "source": []
  }
 ],
 "metadata": {
  "kernelspec": {
   "display_name": "Python 3 (ipykernel)",
   "language": "python",
   "name": "python3"
  },
  "language_info": {
   "codemirror_mode": {
    "name": "ipython",
    "version": 3
   },
   "file_extension": ".py",
   "mimetype": "text/x-python",
   "name": "python",
   "nbconvert_exporter": "python",
   "pygments_lexer": "ipython3",
   "version": "3.10.12"
  }
 },
 "nbformat": 4,
 "nbformat_minor": 5
}
